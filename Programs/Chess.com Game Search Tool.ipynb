{
 "cells": [
  {
   "cell_type": "markdown",
   "id": "ecdf3240-959b-47c7-8e14-53be5d3f45a9",
   "metadata": {},
   "source": [
    "### Import libraries"
   ]
  },
  {
   "cell_type": "code",
   "execution_count": null,
   "id": "07c4d6ba-2562-441b-8290-ad87dfce97d1",
   "metadata": {},
   "outputs": [],
   "source": [
    "import chessdotcom\n",
    "from chessdotcom import ChessDotComClient\n",
    "import re\n",
    "import datetime\n",
    "import pytz\n",
    "import pandas as pd\n",
    "pd.set_option('display.max_colwidth', None)"
   ]
  },
  {
   "cell_type": "markdown",
   "id": "8697b626-91a4-495f-a987-3f5d12b64a41",
   "metadata": {},
   "source": [
    "<br>\n",
    "\n",
    "## To start, run the below cell and enter your Chess.com username (case insensitive) \n",
    ">#### If you want to see a Grandmaster's games, enter \"magnuscarlsen\""
   ]
  },
  {
   "cell_type": "code",
   "execution_count": null,
   "id": "ed59fe9e-1f27-491e-9a50-86a56cd8b9c3",
   "metadata": {},
   "outputs": [],
   "source": [
    "# Connect to the Chess.com API and check that the username exists\n",
    "client = ChessDotComClient(user_agent = \"My Python Application...\")\n",
    "response = 0\n",
    "while response == 0:\n",
    "    username = str(input(\"Enter Username: \"))\n",
    "    try:\n",
    "        response = client.get_player_profile(username)\n",
    "        print('Username entered successfully')\n",
    "    except chessdotcom.errors.ChessDotComClientError:\n",
    "        print('Invalid Username')\n",
    "\n",
    "# Reassigning the username variable to the value stored on chess.com\n",
    "url = response.player.url\n",
    "pattern = r'[^/]+$'\n",
    "match = re.findall(pattern, url)\n",
    "username = match[0]"
   ]
  },
  {
   "cell_type": "markdown",
   "id": "74c8c29f-2117-4f89-9083-0c4d53b0ab6a",
   "metadata": {},
   "source": [
    "<br>\n",
    "\n",
    "## To get accurate game dates, run the below cell and enter your local timezone\n",
    "\n",
    ">#### Timezones can be found in the \"Timezone List\" Excel file. If you do not wish to specify a timezone, enter \"UTC\""
   ]
  },
  {
   "cell_type": "code",
   "execution_count": null,
   "id": "78a12e44-4a1f-4fa0-ab1b-27f4c3d7442b",
   "metadata": {},
   "outputs": [],
   "source": [
    "# Make list of all acceptable timezone values\n",
    "tz_list = []\n",
    "for tz in pytz.all_timezones:\n",
    "    tz_list.append(tz)\n",
    "\n",
    "# Check that the user-entered timezone is in the timezone list\n",
    "while True:\n",
    "    timezone = str(input(\"Enter Timezone: \"))\n",
    "    if timezone in tz_list:\n",
    "        print('Timezone entered successfully')\n",
    "        break\n",
    "    else:\n",
    "        print('Invalid Timezone')"
   ]
  },
  {
   "cell_type": "markdown",
   "id": "16a994f7-6647-4718-9045-4ca88cac18b7",
   "metadata": {},
   "source": [
    "<br>\n",
    "\n",
    "## Display Player Profile "
   ]
  },
  {
   "cell_type": "code",
   "execution_count": null,
   "id": "658452de-7f23-4953-a29f-c18aee7a9072",
   "metadata": {},
   "outputs": [],
   "source": [
    "# Pulling profile data from the Chess.com API\n",
    "if response.player.name is None:\n",
    "    name = pd.NA\n",
    "else: \n",
    "    name = response.player.name\n",
    "\n",
    "if response.player.country is None:\n",
    "    country = pd.NA\n",
    "else: \n",
    "    response_country = client.get_country_details(response.player.country[-2:])\n",
    "    country = response_country.country.name\n",
    "\n",
    "if response.player.joined is None:\n",
    "    joined = pd.NA\n",
    "else: \n",
    "    joined = datetime.datetime.fromtimestamp(response.player.joined)\n",
    "\n",
    "if response.player.last_online is None:\n",
    "    last_online = pd.NA\n",
    "else: \n",
    "    last_online = datetime.datetime.fromtimestamp(response.player.last_online)\n",
    "\n",
    "# Create dataframe to display profile\n",
    "profile = {\n",
    "    \"Profile_Info\": [\"Name\", \"Country\", \"Joined\", \"Last Online\"],\n",
    "    username: [name, country, joined, last_online]}\n",
    "\n",
    "df = pd.DataFrame(profile)\n",
    "df.set_index(\"Profile_Info\", inplace=True)\n",
    "df = df.rename_axis(None)\n",
    "df"
   ]
  },
  {
   "cell_type": "markdown",
   "id": "c4a53690-5f51-47a1-9633-d9a4e2a85064",
   "metadata": {},
   "source": [
    "<br>\n",
    "\n",
    "## Display All-Time Player Stats \n",
    "\n",
    ">#### Game types displayed include Rapid Chess, Blitz Chess, Bullet Chess, and Daily Chess\n",
    ">#### \"Rating\" is how strong a player is according to Chess.com for each game type\n",
    ">#### \"Record\" is the number of Wins-Losses-Draws for each game type"
   ]
  },
  {
   "cell_type": "code",
   "execution_count": null,
   "id": "b1fdc075-56fd-44e2-8cb7-19e8ed26480c",
   "metadata": {},
   "outputs": [],
   "source": [
    "# Pulling stats data from the Chess.com API\n",
    "response2 = client.get_player_stats(username)\n",
    "\n",
    "if response2.stats.chess_rapid is None:\n",
    "    rapid_rating = pd.NA\n",
    "    rapid_wld = pd.NA\n",
    "else: \n",
    "    rapid_rating = response2.stats.chess_rapid.last.rating\n",
    "    rapid_wld = f\"{str(response2.stats.chess_rapid.record.win)}-{str(response2.stats.chess_rapid.record.loss)}-{str(response2.stats.chess_rapid.record.draw)}\"\n",
    "\n",
    "if response2.stats.chess_blitz is None:\n",
    "    blitz_rating = pd.NA\n",
    "    blitz_wld = pd.NA\n",
    "else: \n",
    "    blitz_rating = response2.stats.chess_blitz.last.rating\n",
    "    blitz_wld = f\"{str(response2.stats.chess_blitz.record.win)}-{str(response2.stats.chess_blitz.record.loss)}-{str(response2.stats.chess_blitz.record.draw)}\"\n",
    "    \n",
    "if response2.stats.chess_bullet is None:\n",
    "    bullet_rating = pd.NA\n",
    "    bullet_wld = pd.NA\n",
    "else: \n",
    "    bullet_rating = response2.stats.chess_bullet.last.rating\n",
    "    bullet_wld = f\"{str(response2.stats.chess_bullet.record.win)}-{str(response2.stats.chess_bullet.record.loss)}-{str(response2.stats.chess_bullet.record.draw)}\"\n",
    "\n",
    "if response2.stats.chess_daily is None:\n",
    "    daily_rating = pd.NA\n",
    "    daily_wld = pd.NA\n",
    "else: \n",
    "    daily_rating = response2.stats.chess_daily.last.rating\n",
    "    daily_wld = f\"{str(response2.stats.chess_daily.record.win)}-{str(response2.stats.chess_daily.record.loss)}-{str(response2.stats.chess_daily.record.draw)}\"\n",
    "\n",
    "# Create dataframe to display stats\n",
    "stats = {\n",
    "    \"Profile_Info\": [\"Rapid Chess Rating\", \"Rapid Chess Record\",\n",
    "                     \"Blitz Chess Rating\", \"Blitz Chess Record\",\n",
    "                     \"Bullet Chess Rating\", \"Bullet Chess Record\",\n",
    "                     \"Daily Chess Rating\", \"Daily Chess Record\"],\n",
    "    \"Username\": [rapid_rating, rapid_wld,\n",
    "                 blitz_rating, blitz_wld,\n",
    "                 bullet_rating, bullet_wld,\n",
    "                 daily_rating, daily_wld\n",
    "                 ]}\n",
    "\n",
    "df = pd.DataFrame(stats)\n",
    "df.rename(columns={\"Username\": username}, inplace=True)\n",
    "df.set_index(\"Profile_Info\", inplace=True)\n",
    "df = df.rename_axis(None)\n",
    "df"
   ]
  },
  {
   "cell_type": "markdown",
   "id": "359bb375-18fa-457a-b4c2-e03478246f23",
   "metadata": {},
   "source": [
    "<br>\n",
    "\n",
    "## Create a list of all \"live\" games the player has completed\n",
    "\n",
    ">#### This cell may take a few minutes to run if the player has thousands of games\n",
    ">#### The list will not include games played against a computer, nor games played with non-traditional rules such as Chess 960"
   ]
  },
  {
   "cell_type": "code",
   "execution_count": null,
   "id": "f4ea2cf2-8270-4be3-b0ed-bbb35286da1e",
   "metadata": {},
   "outputs": [],
   "source": [
    "# Create a list of each month that the player has played a game\n",
    "# This is nessesary because the game data is stored by month in the Chess.com API\n",
    "response3 = client.get_player_game_archives(username)\n",
    "months_list = []\n",
    "for i in range(len(response3.archives)):\n",
    "    months_list.append(response3.archives[i][-7:])\n",
    "\n",
    "# Create a list of every live game the player has played via looping through each month\n",
    "live_games = []\n",
    "for i in range(len(months_list)):\n",
    "    year = int(months_list[i][:4])\n",
    "    month = int(months_list[i][5:])\n",
    "    response4 = client.get_player_games_by_month(username, year, month)\n",
    "    for i in range(len(response4.games)):\n",
    "        if response4.games[i].pgn and (response4.games[i].pgn[:20] == '[Event \"Live Chess\"]' or response4.games[i].pgn[:20] == '[Event \"Let\\'s Play\"]'):\n",
    "            live_games.append(response4.games[i])"
   ]
  },
  {
   "cell_type": "markdown",
   "id": "b9ac1118-f2f8-47fd-a268-9954b3e558c1",
   "metadata": {},
   "source": [
    "<br>\n",
    "\n",
    "### Define a function to convert game dates to the correct timezone"
   ]
  },
  {
   "cell_type": "code",
   "execution_count": null,
   "id": "4d53f272-8e26-4e0d-a6cb-e4c2eac1e76f",
   "metadata": {},
   "outputs": [],
   "source": [
    "def convert_to_timezone(date, timezone):\n",
    "    date = pd.to_datetime(date)\n",
    "    date = date.tz_localize('UTC')\n",
    "    date = str(date.tz_convert(timezone))\n",
    "    return date[:-9]"
   ]
  },
  {
   "cell_type": "markdown",
   "id": "7fbde4d7-1326-4f67-9fce-acaeb28a2f74",
   "metadata": {},
   "source": [
    "<br>\n",
    "\n",
    "### Define a function to retrieve relevant game information"
   ]
  },
  {
   "cell_type": "code",
   "execution_count": null,
   "id": "3d0f7025-26a8-4541-b647-80e88daee3f0",
   "metadata": {},
   "outputs": [],
   "source": [
    "def game_info(num):\n",
    "    if live_games[num].white.username != username:\n",
    "        opponent = live_games[num].white.username\n",
    "        my_result = live_games[num].black.result\n",
    "        opponent_result = live_games[num].white.result\n",
    "        my_rating = int(live_games[num].black.rating)\n",
    "        opponent_rating = int(live_games[num].white.rating)\n",
    "        pieces = 'black'\n",
    "    else: \n",
    "        opponent = live_games[num].black.username\n",
    "        my_result = live_games[num].white.result\n",
    "        opponent_result = live_games[num].black.result\n",
    "        my_rating = int(live_games[num].white.rating)\n",
    "        opponent_rating = int(live_games[num].black.rating)\n",
    "        pieces = 'white'\n",
    "    \n",
    "    if my_result == 'win':\n",
    "        result = 'win'\n",
    "        game_ending = opponent_result\n",
    "    elif my_result in ['resigned', 'checkmated', 'timeout']:\n",
    "        result = 'loss'\n",
    "        game_ending = my_result\n",
    "    else:\n",
    "        result = 'draw'\n",
    "        game_ending = my_result\n",
    "\n",
    "    list = [pieces, opponent, result, game_ending, my_rating, opponent_rating]\n",
    "    return list"
   ]
  },
  {
   "cell_type": "markdown",
   "id": "ce1aff6e-841c-4c08-a803-bfa50de2dcee",
   "metadata": {},
   "source": [
    "<br>\n",
    "\n",
    "### Define a function to retrieve and format time controls  "
   ]
  },
  {
   "cell_type": "code",
   "execution_count": null,
   "id": "8777a157-e852-484e-a39e-292629e8705b",
   "metadata": {},
   "outputs": [],
   "source": [
    "def time_control(num):\n",
    "    try:\n",
    "        time = live_games[num].time_control\n",
    "        if '+' in time:\n",
    "            if time[-2] == '+':\n",
    "                time = str(int(time[:-2])//60) + ' minutes, ' + time[-1] + ' seconds per move'\n",
    "            else:\n",
    "                time = str(int(time[:-3])//60) + ' minutes, ' + time[-2:] + ' seconds per move'\n",
    "        elif live_games[num].time_class == 'daily':\n",
    "            time = 'daily'\n",
    "        else:\n",
    "            time = str(int(time)//60) + ' minutes, ' +  '0 seconds per move'\n",
    "\n",
    "        if time == '0 minutes, 0 seconds per move':\n",
    "            time = 'less than 1 minute'\n",
    "        \n",
    "        return time\n",
    "        \n",
    "    except ValueError:\n",
    "        time = 'N/A'\n",
    "        return time"
   ]
  },
  {
   "cell_type": "markdown",
   "id": "bceb24aa-8986-42d3-b90f-734f542e2599",
   "metadata": {},
   "source": [
    "<br>\n",
    "\n",
    "### Define a function to retrieve the game opening variations"
   ]
  },
  {
   "cell_type": "code",
   "execution_count": null,
   "id": "532035bf-b21f-402e-9983-d16521df31ba",
   "metadata": {},
   "outputs": [],
   "source": [
    "# Regular Expressions are used to capture the names of the openings because they are stored in a URL\n",
    "def opening(num):\n",
    "    try:\n",
    "        text = live_games[num].pgn\n",
    "        pattern0 = r'ECOUrl\\s*\"([^\"]+)\"'\n",
    "        match0 = re.findall(pattern0, text)\n",
    "        pattern1 = r'[^/]+$'\n",
    "        match1 = re.findall(pattern1, match0[0])\n",
    "        pattern2 = r'-\\d.*$|with-\\d.*$|\\.{3}.*$'\n",
    "        match2 = re.sub(pattern2, \"\", match1[0])\n",
    "        match3 = re.sub(r'-', \" \", match2)\n",
    "        return match3\n",
    "    except IndexError:\n",
    "        match3 = 'N/A'\n",
    "        return match3"
   ]
  },
  {
   "cell_type": "markdown",
   "id": "fa2fa9e5-7ffc-436f-8fbf-033bfe6faf54",
   "metadata": {},
   "source": [
    "<br>\n",
    "\n",
    "### Create a dataframe of all games with columns to display the details of each game"
   ]
  },
  {
   "cell_type": "code",
   "execution_count": null,
   "id": "34e029af-feea-4889-8abf-d3fa8d57b5f6",
   "metadata": {},
   "outputs": [],
   "source": [
    "# Initializing a new pandas dataframe\n",
    "columns = ['Date', 'Played As', 'My Rating', 'Opponent', 'Opponent Rating', 'Result', 'Game Ending', 'Game Type', 'Time Controls', 'Opening', 'URL']\n",
    "chess_games = pd.DataFrame(columns=columns)\n",
    "\n",
    "dates = []\n",
    "played_as = []\n",
    "my_rating = []\n",
    "opponent = []\n",
    "opponent_rating = []\n",
    "result = []\n",
    "game_ending = []\n",
    "game_type = []\n",
    "controls = []\n",
    "chess_opening = []\n",
    "url = []\n",
    "\n",
    "# This FOR loop calls the functions that we defined earlier\n",
    "for i in range(len(live_games)):\n",
    "    readable_date = datetime.datetime.utcfromtimestamp(live_games[i].end_time)\n",
    "    dates.append(convert_to_timezone(readable_date, timezone))\n",
    "    played_as.append(game_info(i)[0])\n",
    "    opponent.append(game_info(i)[1])\n",
    "    result.append(game_info(i)[2])\n",
    "    game_ending.append(game_info(i)[3])\n",
    "    my_rating.append(game_info(i)[4])\n",
    "    opponent_rating.append(game_info(i)[5])\n",
    "    game_type.append(live_games[i].time_class)\n",
    "    controls.append(time_control(i))\n",
    "    chess_opening.append(opening(i))\n",
    "    url.append(live_games[i].url)\n",
    "\n",
    "# Adding the lists that contain the game data to the dataframe columns\n",
    "chess_games['Date'] = dates\n",
    "chess_games['Played As'] = played_as\n",
    "chess_games['My Rating'] = my_rating\n",
    "chess_games['Opponent'] = opponent\n",
    "chess_games['Opponent Rating'] = opponent_rating\n",
    "chess_games['Result'] = result\n",
    "chess_games['Game Ending'] = game_ending\n",
    "chess_games['Game Type'] = game_type\n",
    "chess_games['Time Controls'] = controls\n",
    "chess_games['Opening'] = chess_opening\n",
    "chess_games['URL'] = url\n",
    "chess_games['Year'] = chess_games['Date'].str[:4]\n",
    "chess_games['Month'] = chess_games['Date'].str[5:7]"
   ]
  },
  {
   "cell_type": "markdown",
   "id": "de65d4e6-5765-4bb0-9938-18fec7e7e7c3",
   "metadata": {},
   "source": [
    "<br>\n",
    "\n",
    "### Define a function to filter the dataframe by any combination of 13 different criteria"
   ]
  },
  {
   "cell_type": "code",
   "execution_count": null,
   "id": "6865cd70-b4c6-47db-9435-6b439f026646",
   "metadata": {},
   "outputs": [],
   "source": [
    "def filtered_results(played_as, my_rating_lowerbound, my_rating_upperbound, opponent, opponent_rating_lowerbound, opponent_rating_upperbound, \n",
    "                     year, month, result, game_ending, game_type, time_controls, opening):\n",
    "    global filtered_df\n",
    "    filtered_df = chess_games\n",
    "    if played_as != 'ALL':\n",
    "        filtered_df = filtered_df[filtered_df['Played As'] == played_as]\n",
    "    if my_rating_lowerbound != 'ALL':\n",
    "        filtered_df = filtered_df[filtered_df['My Rating'] >= int(my_rating_lowerbound)]\n",
    "    if my_rating_upperbound != 'ALL':\n",
    "        filtered_df = filtered_df[filtered_df['My Rating'] <= int(my_rating_upperbound)]\n",
    "    if opponent != 'ALL':\n",
    "        filtered_df = filtered_df[filtered_df['Opponent'].str.contains(opponent, case=False, na=False)]\n",
    "    if opponent_rating_lowerbound != 'ALL':\n",
    "        filtered_df = filtered_df[filtered_df['Opponent Rating'] >= int(opponent_rating_lowerbound)]\n",
    "    if opponent_rating_upperbound != 'ALL':\n",
    "        filtered_df = filtered_df[filtered_df['Opponent Rating'] <= int(opponent_rating_upperbound)]\n",
    "    if year != 'ALL':\n",
    "        filtered_df = filtered_df[filtered_df['Year'] == year]\n",
    "    if month != 'ALL':\n",
    "        filtered_df = filtered_df[filtered_df['Month'] == month]\n",
    "    if result != 'ALL':\n",
    "        filtered_df = filtered_df[filtered_df['Result'] == result]\n",
    "    if game_ending != 'ALL':\n",
    "        filtered_df = filtered_df[filtered_df['Game Ending'] == game_ending]\n",
    "    if game_type != 'ALL':\n",
    "        filtered_df = filtered_df[filtered_df['Game Type'] == game_type]\n",
    "    if time_controls != 'ALL':\n",
    "        filtered_df = filtered_df[filtered_df['Time Controls'] == time_controls]\n",
    "    if opening != 'ALL':\n",
    "        filtered_df = filtered_df[filtered_df['Opening'].str.contains(opening, case=False, na=False)]\n",
    "    filtered_df = filtered_df.reset_index(drop=True)\n",
    "    return filtered_df.iloc[:, :-2]"
   ]
  },
  {
   "cell_type": "markdown",
   "id": "4ebe87dd-9c55-4517-b8df-cf667518d2c6",
   "metadata": {},
   "source": [
    "<br>\n",
    "<br>\n",
    "<br>\n",
    "\n",
    "# Run the below cell to print the dataframe of all games you've played.\n",
    ">#### You can filter the dataframe by editing the strings assigned to each variable and then running the cell again\n",
    ">#### For the \"opponent\" and \"opening\" variables, there is a built-in wildcard search so you don't have to enter an exact match\n",
    ">#### For the \"rating lower/upperbound\" variables, enter your number as a string, do not assign the variable to be an integer\n",
    ">#### If the dataframe has no rows, either there is no data for your filtering criteria, or you entered a misspelled value\n",
    ">#### To un-filter a variable, simply change the string back to 'ALL' and re-run the cell"
   ]
  },
  {
   "cell_type": "code",
   "execution_count": null,
   "id": "bdf23eb2-98fe-48c5-b4f3-430dea57f291",
   "metadata": {},
   "outputs": [],
   "source": [
    "# Edit the below strings to select your filters \n",
    "played_as = 'ALL'\n",
    "my_rating_lowerbound = 'ALL'\n",
    "my_rating_upperbound = 'ALL'\n",
    "opponent  = 'ALL'\n",
    "opponent_rating_lowerbound = 'ALL'\n",
    "opponent_rating_upperbound = 'ALL'\n",
    "year = 'ALL'\n",
    "month = 'ALL'\n",
    "result = 'ALL'\n",
    "game_ending = 'ALL'\n",
    "game_type = 'ALL'\n",
    "time_controls = 'ALL'\n",
    "opening = 'ALL'\n",
    "\n",
    "\n",
    "# Calling function to print filtered dataframe (do not edit this)\n",
    "filtered_results(played_as, my_rating_lowerbound, my_rating_upperbound, opponent, opponent_rating_lowerbound, opponent_rating_upperbound,\n",
    "                 year, month, result, game_ending, game_type, time_controls, opening)"
   ]
  },
  {
   "cell_type": "markdown",
   "id": "dd091578-d663-4b00-9674-7c72fc5a51b0",
   "metadata": {},
   "source": [
    "<br> \n",
    "\n",
    "### Display your record for the games you selected\n",
    ">#### You can change the variable in the square brackets if you want to see value counts for other columns"
   ]
  },
  {
   "cell_type": "code",
   "execution_count": null,
   "id": "816aebf7-112c-4d5f-8d72-331be53d49a9",
   "metadata": {},
   "outputs": [],
   "source": [
    "filtered_df['Result'].value_counts()"
   ]
  },
  {
   "cell_type": "markdown",
   "id": "da30b646-4d48-4f78-958f-b6dfdaf880ea",
   "metadata": {},
   "source": [
    "<br> \n",
    "\n",
    "### Display the count of the top ten opening variations for the games you selected and your win percentages"
   ]
  },
  {
   "cell_type": "code",
   "execution_count": null,
   "id": "379805fb-adce-4c98-bc34-41bc4df1969d",
   "metadata": {},
   "outputs": [],
   "source": [
    "grouped = filtered_df.groupby('Opening')['Result'].value_counts().unstack(fill_value=0)\n",
    "grouped['win_percentage'] = (grouped['win'] / grouped.sum(axis=1)) * 100\n",
    "grouped['win_percentage'] = grouped['win_percentage'].round(1)\n",
    "\n",
    "category_counts = filtered_df['Opening'].value_counts()\n",
    "grouped['count'] = category_counts\n",
    "grouped = grouped.loc[category_counts.index]\n",
    "grouped_reset = grouped.reset_index()\n",
    "grouped_reset = grouped_reset[['Opening', 'count', 'win_percentage']]\n",
    "\n",
    "# Change the number 10 in the below line if you want to see more than 10 results\n",
    "grouped_reset = grouped_reset.head(10)\n",
    "\n",
    "print(grouped_reset.to_string(index=False))"
   ]
  },
  {
   "cell_type": "markdown",
   "id": "e10af216-a68c-4546-aed9-7c3e66797857",
   "metadata": {},
   "source": [
    "<br> \n",
    "\n",
    "### Save the filtered dataframe as an excel file"
   ]
  },
  {
   "cell_type": "code",
   "execution_count": null,
   "id": "147750f7-27bd-430b-bd21-2f495ef567b8",
   "metadata": {},
   "outputs": [],
   "source": [
    "filtered_df.to_excel(f'{username}_chess_games.xlsx', index=False)"
   ]
  }
 ],
 "metadata": {
  "kernelspec": {
   "display_name": "Python 3 (ipykernel)",
   "language": "python",
   "name": "python3"
  },
  "language_info": {
   "codemirror_mode": {
    "name": "ipython",
    "version": 3
   },
   "file_extension": ".py",
   "mimetype": "text/x-python",
   "name": "python",
   "nbconvert_exporter": "python",
   "pygments_lexer": "ipython3",
   "version": "3.11.7"
  }
 },
 "nbformat": 4,
 "nbformat_minor": 5
}
